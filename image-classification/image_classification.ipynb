{
 "cells": [
  {
   "cell_type": "markdown",
   "metadata": {
    "collapsed": true
   },
   "source": [
    "# Image Classification\n",
    "In this project, you'll classify images from the [CIFAR-10 dataset](https://www.cs.toronto.edu/~kriz/cifar.html).  The dataset consists of airplanes, dogs, cats, and other objects. You'll preprocess the images, then train a convolutional neural network on all the samples. The images need to be normalized and the labels need to be one-hot encoded.  You'll get to apply what you learned and build a convolutional, max pooling, dropout, and fully connected layers.  At the end, you'll get to see your neural network's predictions on the sample images.\n",
    "## Get the Data\n",
    "Run the following cell to download the [CIFAR-10 dataset for python](https://www.cs.toronto.edu/~kriz/cifar-10-python.tar.gz)."
   ]
  },
  {
   "cell_type": "code",
   "execution_count": 1,
   "metadata": {
    "collapsed": false
   },
   "outputs": [
    {
     "name": "stdout",
     "output_type": "stream",
     "text": [
      "All files found!\n"
     ]
    }
   ],
   "source": [
    "\"\"\"\n",
    "DON'T MODIFY ANYTHING IN THIS CELL THAT IS BELOW THIS LINE\n",
    "\"\"\"\n",
    "from urllib.request import urlretrieve\n",
    "from os.path import isfile, isdir\n",
    "from tqdm import tqdm\n",
    "import problem_unittests as tests\n",
    "import tarfile\n",
    "\n",
    "cifar10_dataset_folder_path = 'cifar-10-batches-py'\n",
    "\n",
    "class DLProgress(tqdm):\n",
    "    last_block = 0\n",
    "\n",
    "    def hook(self, block_num=1, block_size=1, total_size=None):\n",
    "        self.total = total_size\n",
    "        self.update((block_num - self.last_block) * block_size)\n",
    "        self.last_block = block_num\n",
    "\n",
    "if not isfile('cifar-10-python.tar.gz'):\n",
    "    with DLProgress(unit='B', unit_scale=True, miniters=1, desc='CIFAR-10 Dataset') as pbar:\n",
    "        urlretrieve(\n",
    "            'https://www.cs.toronto.edu/~kriz/cifar-10-python.tar.gz',\n",
    "            'cifar-10-python.tar.gz',\n",
    "            pbar.hook)\n",
    "\n",
    "if not isdir(cifar10_dataset_folder_path):\n",
    "    with tarfile.open('cifar-10-python.tar.gz') as tar:\n",
    "        tar.extractall()\n",
    "        tar.close()\n",
    "\n",
    "\n",
    "tests.test_folder_path(cifar10_dataset_folder_path)"
   ]
  },
  {
   "cell_type": "markdown",
   "metadata": {},
   "source": [
    "## Explore the Data\n",
    "The dataset is broken into batches to prevent your machine from running out of memory.  The CIFAR-10 dataset consists of 5 batches, named `data_batch_1`, `data_batch_2`, etc.. Each batch contains the labels and images that are one of the following:\n",
    "* airplane\n",
    "* automobile\n",
    "* bird\n",
    "* cat\n",
    "* deer\n",
    "* dog\n",
    "* frog\n",
    "* horse\n",
    "* ship\n",
    "* truck\n",
    "\n",
    "Understanding a dataset is part of making predictions on the data.  Play around with the code cell below by changing the `batch_id` and `sample_id`. The `batch_id` is the id for a batch (1-5). The `sample_id` is the id for a image and label pair in the batch.\n",
    "\n",
    "Ask yourself \"What are all possible labels?\", \"What is the range of values for the image data?\", \"Are the labels in order or random?\".  Answers to questions like these will help you preprocess the data and end up with better predictions."
   ]
  },
  {
   "cell_type": "code",
   "execution_count": 2,
   "metadata": {
    "collapsed": false
   },
   "outputs": [
    {
     "name": "stdout",
     "output_type": "stream",
     "text": [
      "\n",
      "Stats of batch 5:\n",
      "Samples: 10000\n",
      "Label Counts: {0: 1014, 1: 1014, 2: 952, 3: 1016, 4: 997, 5: 1025, 6: 980, 7: 977, 8: 1003, 9: 1022}\n",
      "First 20 Labels: [1, 8, 5, 1, 5, 7, 4, 3, 8, 2, 7, 2, 0, 1, 5, 9, 6, 2, 0, 8]\n",
      "\n",
      "Example of Image 3334:\n",
      "Image - Min Value: 71 Max Value: 255\n",
      "Image - Shape: (32, 32, 3)\n",
      "Label - Label Id: 8 Name: ship\n"
     ]
    },
    {
     "data": {
      "image/png": "[encoded data removed]",
      "text/plain": [
       "<matplotlib.figure.Figure at 0x120ff32b0>"
      ]
     },
     "metadata": {
      "image/png": {
       "height": 250,
       "width": 253
      }
     },
     "output_type": "display_data"
    }
   ],
   "source": [
    "%matplotlib inline\n",
    "%config InlineBackend.figure_format = 'retina'\n",
    "\n",
    "import helper\n",
    "import numpy as np\n",
    "\n",
    "# Explore the dataset\n",
    "batch_id = 5\n",
    "sample_id = 3334\n",
    "helper.display_stats(cifar10_dataset_folder_path, batch_id, sample_id)"
   ]
  },
  {
   "cell_type": "markdown",
   "metadata": {},
   "source": [
    "## Implement Preprocess Functions\n",
    "### Normalize\n",
    "In the cell below, implement the `normalize` function to take in image data, `x`, and return it as a normalized Numpy array. The values should be in the range of 0 to 1, inclusive.  The return object should be the same shape as `x`."
   ]
  },
  {
   "cell_type": "code",
   "execution_count": 13,
   "metadata": {
    "collapsed": false
   },
   "outputs": [
    {
     "name": "stdout",
     "output_type": "stream",
     "text": [
      "Tests Passed\n"
     ]
    }
   ],
   "source": [
    "def normalize(x):\n",
    "    \"\"\"\n",
    "    Normalize a list of sample image data in the range of 0 to 1\n",
    "    : x: List of image data.  The image shape is (32, 32, 3)\n",
    "    : return: Numpy array of normalize data\n",
    "    \"\"\"\n",
    "    # TODO: Implement Function\n",
    "    count = x.shape[0]\n",
    "    a = np.zeros(shape=(count, 32, 32, 3))\n",
    "    \n",
    "    for i in range(0, count-1):\n",
    "        for j in range(0, 31):\n",
    "            for k in range(0, 31):\n",
    "                for l in range(0, 2):\n",
    "                    a[i][j][k][l] = x[i][j][k][l]/255\n",
    "        \n",
    "    return a\n",
    "\n",
    "\n",
    "\"\"\"\n",
    "DON'T MODIFY ANYTHING IN THIS CELL THAT IS BELOW THIS LINE\n",
    "\"\"\"\n",
    "tests.test_normalize(normalize)"
   ]
  },
  {
   "cell_type": "markdown",
   "metadata": {},
   "source": [
    "### One-hot encode\n",
    "Just like the previous code cell, you'll be implementing a function for preprocessing.  This time, you'll implement the `one_hot_encode` function. The input, `x`, are a list of labels.  Implement the function to return the list of labels as One-Hot encoded Numpy array.  The possible values for labels are 0 to 9. The one-hot encoding function should return the same encoding for each value between each call to `one_hot_encode`.  Make sure to save the map of encodings outside the function.\n",
    "\n",
    "**Hint:**\n",
    "\n",
    "Look into LabelBinarizer in the preprocessing module of sklearn."
   ]
  },
  {
   "cell_type": "code",
   "execution_count": 16,
   "metadata": {
    "collapsed": false
   },
   "outputs": [
    {
     "name": "stdout",
     "output_type": "stream",
     "text": [
      "Tests Passed\n"
     ]
    }
   ],
   "source": [
    "from sklearn import preprocessing\n",
    "    \n",
    "def one_hot_encode(x):\n",
    "    \"\"\"\n",
    "    One hot encode a list of sample labels. Return a one-hot encoded vector for each label.\n",
    "    : x: List of sample Labels\n",
    "    : return: Numpy array of one-hot encoded labels\n",
    "    \"\"\"\n",
    "    # TODO: Implement Function\n",
    "    lb = preprocessing.LabelBinarizer()\n",
    "    lb.fit([0, 1, 2, 3, 4, 5, 6, 7, 8, 9])\n",
    "    result = lb.transform(x)\n",
    "    return result\n",
    "\n",
    "\n",
    "\"\"\"\n",
    "DON'T MODIFY ANYTHING IN THIS CELL THAT IS BELOW THIS LINE\n",
    "\"\"\"\n",
    "tests.test_one_hot_encode(one_hot_encode)"
   ]
  },
  {
   "cell_type": "markdown",
   "metadata": {},
   "source": [
    "### Randomize Data\n",
    "As you saw from exploring the data above, the order of the samples are randomized.  It doesn't hurt to randomize it again, but you don't need to for this dataset."
   ]
  },
  {
   "cell_type": "markdown",
   "metadata": {},
   "source": [
    "## Preprocess all the data and save it\n",
    "Running the code cell below will preprocess all the CIFAR-10 data and save it to file. The code below also uses 10% of the training data for validation."
   ]
  },
  {
   "cell_type": "code",
   "execution_count": 17,
   "metadata": {
    "collapsed": false
   },
   "outputs": [],
   "source": [
    "\"\"\"\n",
    "DON'T MODIFY ANYTHING IN THIS CELL\n",
    "\"\"\"\n",
    "# Preprocess Training, Validation, and Testing Data\n",
    "helper.preprocess_and_save_data(cifar10_dataset_folder_path, normalize, one_hot_encode)"
   ]
  },
  {
   "cell_type": "markdown",
   "metadata": {},
   "source": [
    "# Check Point\n",
    "This is your first checkpoint.  If you ever decide to come back to this notebook or have to restart the notebook, you can start from here.  The preprocessed data has been saved to disk."
   ]
  },
  {
   "cell_type": "code",
   "execution_count": 208,
   "metadata": {
    "collapsed": true
   },
   "outputs": [],
   "source": [
    "\"\"\"\n",
    "DON'T MODIFY ANYTHING IN THIS CELL\n",
    "\"\"\"\n",
    "import pickle\n",
    "import problem_unittests as tests\n",
    "import helper\n",
    "import numpy as np\n",
    "\n",
    "# Load the Preprocessed Validation data\n",
    "valid_features, valid_labels = pickle.load(open('preprocess_validation.p', mode='rb'))"
   ]
  },
  {
   "cell_type": "markdown",
   "metadata": {},
   "source": [
    "## Build the network\n",
    "For the neural network, you'll build each layer into a function.  Most of the code you've seen has been outside of functions. To test your code more thoroughly, we require that you put each layer in a function.  This allows us to give you better feedback and test for simple mistakes using our unittests before you submit your project.\n",
    "\n",
    ">**Note:** If you're finding it hard to dedicate enough time for this course each week, we've provided a small shortcut to this part of the project. In the next couple of problems, you'll have the option to use classes from the [TensorFlow Layers](https://www.tensorflow.org/api_docs/python/tf/layers) or [TensorFlow Layers (contrib)](https://www.tensorflow.org/api_guides/python/contrib.layers) packages to build each layer, except the layers you build in the \"Convolutional and Max Pooling Layer\" section.  TF Layers is similar to Keras's and TFLearn's abstraction to layers, so it's easy to pickup.\n",
    "\n",
    ">However, if you would like to get the most out of this course, try to solve all the problems _without_ using anything from the TF Layers packages. You **can** still use classes from other packages that happen to have the same name as ones you find in TF Layers! For example, instead of using the TF Layers version of the `conv2d` class, [tf.layers.conv2d](https://www.tensorflow.org/api_docs/python/tf/layers/conv2d), you would want to use the TF Neural Network version of `conv2d`, [tf.nn.conv2d](https://www.tensorflow.org/api_docs/python/tf/nn/conv2d). \n",
    "\n",
    "Let's begin!\n",
    "\n",
    "### Input\n",
    "The neural network needs to read the image data, one-hot encoded labels, and dropout keep probability. Implement the following functions\n",
    "* Implement `neural_net_image_input`\n",
    " * Return a [TF Placeholder](https://www.tensorflow.org/api_docs/python/tf/placeholder)\n",
    " * Set the shape using `image_shape` with batch size set to `None`.\n",
    " * Name the TensorFlow placeholder \"x\" using the TensorFlow `name` parameter in the [TF Placeholder](https://www.tensorflow.org/api_docs/python/tf/placeholder).\n",
    "* Implement `neural_net_label_input`\n",
    " * Return a [TF Placeholder](https://www.tensorflow.org/api_docs/python/tf/placeholder)\n",
    " * Set the shape using `n_classes` with batch size set to `None`.\n",
    " * Name the TensorFlow placeholder \"y\" using the TensorFlow `name` parameter in the [TF Placeholder](https://www.tensorflow.org/api_docs/python/tf/placeholder).\n",
    "* Implement `neural_net_keep_prob_input`\n",
    " * Return a [TF Placeholder](https://www.tensorflow.org/api_docs/python/tf/placeholder) for dropout keep probability.\n",
    " * Name the TensorFlow placeholder \"keep_prob\" using the TensorFlow `name` parameter in the [TF Placeholder](https://www.tensorflow.org/api_docs/python/tf/placeholder).\n",
    "\n",
    "These names will be used at the end of the project to load your saved model.\n",
    "\n",
    "Note: `None` for shapes in TensorFlow allow for a dynamic size."
   ]
  },
  {
   "cell_type": "code",
   "execution_count": 209,
   "metadata": {
    "collapsed": false
   },
   "outputs": [
    {
     "name": "stdout",
     "output_type": "stream",
     "text": [
      "Image Input Tests Passed.\n",
      "Label Input Tests Passed.\n",
      "Keep Prob Tests Passed.\n"
     ]
    }
   ],
   "source": [
    "import tensorflow as tf\n",
    "\n",
    "def neural_net_image_input(image_shape):\n",
    "    \"\"\"\n",
    "    Return a Tensor for a batch of image input\n",
    "    : image_shape: Shape of the images\n",
    "    : return: Tensor for image input.\n",
    "    \"\"\"\n",
    "    # TODO: Implement Function\n",
    "    return tf.placeholder(tf.float32, [None, image_shape[0], image_shape[1], image_shape[2]], 'x')\n",
    "\n",
    "\n",
    "def neural_net_label_input(n_classes):\n",
    "    \"\"\"\n",
    "    Return a Tensor for a batch of label input\n",
    "    : n_classes: Number of classes\n",
    "    : return: Tensor for label input.\n",
    "    \"\"\"\n",
    "    # TODO: Implement Function\n",
    "    return tf.placeholder(tf.float32, [None, n_classes], 'y')\n",
    "\n",
    "\n",
    "def neural_net_keep_prob_input():\n",
    "    \"\"\"\n",
    "    Return a Tensor for keep probability\n",
    "    : return: Tensor for keep probability.\n",
    "    \"\"\"\n",
    "    # TODO: Implement Function\n",
    "    return tf.placeholder(tf.float32, None, 'keep_prob')\n",
    "\n",
    "\n",
    "\"\"\"\n",
    "DON'T MODIFY ANYTHING IN THIS CELL THAT IS BELOW THIS LINE\n",
    "\"\"\"\n",
    "tf.reset_default_graph()\n",
    "tests.test_nn_image_inputs(neural_net_image_input)\n",
    "tests.test_nn_label_inputs(neural_net_label_input)\n",
    "tests.test_nn_keep_prob_inputs(neural_net_keep_prob_input)"
   ]
  },
  {
   "cell_type": "markdown",
   "metadata": {},
   "source": [
    "### Convolution and Max Pooling Layer\n",
    "Convolution layers have a lot of success with images. For this code cell, you should implement the function `conv2d_maxpool` to apply convolution then max pooling:\n",
    "* Create the weight and bias using `conv_ksize`, `conv_num_outputs` and the shape of `x_tensor`.\n",
    "* Apply a convolution to `x_tensor` using weight and `conv_strides`.\n",
    " * We recommend you use same padding, but you're welcome to use any padding.\n",
    "* Add bias\n",
    "* Add a nonlinear activation to the convolution.\n",
    "* Apply Max Pooling using `pool_ksize` and `pool_strides`.\n",
    " * We recommend you use same padding, but you're welcome to use any padding.\n",
    "\n",
    "**Note:** You **can't** use [TensorFlow Layers](https://www.tensorflow.org/api_docs/python/tf/layers) or [TensorFlow Layers (contrib)](https://www.tensorflow.org/api_guides/python/contrib.layers) for **this** layer, but you can still use TensorFlow's [Neural Network](https://www.tensorflow.org/api_docs/python/tf/nn) package. You may still use the shortcut option for all the **other** layers.\n",
    "\n",
    "** Hint: **\n",
    "\n",
    "When unpacking values as an argument in Python, look into the [unpacking](https://docs.python.org/3/tutorial/controlflow.html#unpacking-argument-lists) operator. "
   ]
  },
  {
   "cell_type": "code",
   "execution_count": 210,
   "metadata": {
    "collapsed": false
   },
   "outputs": [
    {
     "name": "stdout",
     "output_type": "stream",
     "text": [
      "Tests Passed\n"
     ]
    }
   ],
   "source": [
    "def conv2d_maxpool(x_tensor, conv_num_outputs, conv_ksize, conv_strides, pool_ksize, pool_strides):\n",
    "    \"\"\"\n",
    "    Apply convolution then max pooling to x_tensor\n",
    "    :param x_tensor: TensorFlow Tensor\n",
    "    :param conv_num_outputs: Number of outputs for the convolutional layer\n",
    "    :param conv_ksize: kernal size 2-D Tuple for the convolutional layer\n",
    "    :param conv_strides: Stride 2-D Tuple for convolution\n",
    "    :param pool_ksize: kernal size 2-D Tuple for pool\n",
    "    :param pool_strides: Stride 2-D Tuple for pool\n",
    "    : return: A tensor that represents convolution and max pooling of x_tensor\n",
    "    \"\"\"\n",
    "   \n",
    "    # TODO: Implement Function\n",
    "    color_channels = int(x_tensor.shape[3])\n",
    "    \n",
    "    # Create the weight and bias\n",
    "    weight = tf.Variable(tf.truncated_normal([*conv_ksize, color_channels, conv_num_outputs], mean = 0.0, stddev = 0.1))\n",
    "    bias = tf.Variable(tf.zeros([conv_num_outputs]))\n",
    "    \n",
    "    # Apply convolution\n",
    "    x_tensor = tf.nn.conv2d(\n",
    "        x_tensor, \n",
    "        weight, \n",
    "        strides=[1, *conv_strides, 1], \n",
    "        padding='SAME')\n",
    "    \n",
    "    # Add bias\n",
    "    x_tensor = tf.nn.bias_add(x_tensor, bias)\n",
    "    \n",
    "    # Add nonlinear activation to the convolution\n",
    "    conv1 = tf.nn.relu(x_tensor)\n",
    "    \n",
    "    # Apply max pooling\n",
    "    conv1 = tf.nn.max_pool(\n",
    "        conv1, \n",
    "        ksize=[1, *pool_ksize, 1], \n",
    "        strides = [1, *pool_strides, 1], \n",
    "        padding='SAME')\n",
    "    \n",
    "    return conv1\n",
    "\n",
    "\n",
    "\"\"\"\n",
    "DON'T MODIFY ANYTHING IN THIS CELL THAT IS BELOW THIS LINE\n",
    "\"\"\"\n",
    "tests.test_con_pool(conv2d_maxpool)"
   ]
  },
  {
   "cell_type": "markdown",
   "metadata": {},
   "source": [
    "### Flatten Layer\n",
    "Implement the `flatten` function to change the dimension of `x_tensor` from a 4-D tensor to a 2-D tensor.  The output should be the shape (*Batch Size*, *Flattened Image Size*). Shortcut option: you can use classes from the [TensorFlow Layers](https://www.tensorflow.org/api_docs/python/tf/layers) or [TensorFlow Layers (contrib)](https://www.tensorflow.org/api_guides/python/contrib.layers) packages for this layer. For more of a challenge, only use other TensorFlow packages."
   ]
  },
  {
   "cell_type": "code",
   "execution_count": 211,
   "metadata": {
    "collapsed": false
   },
   "outputs": [
    {
     "name": "stdout",
     "output_type": "stream",
     "text": [
      "Tests Passed\n"
     ]
    }
   ],
   "source": [
    "def flatten(x_tensor):\n",
    "    \"\"\"\n",
    "    Flatten x_tensor to (Batch Size, Flattened Image Size)\n",
    "    : x_tensor: A tensor of size (Batch Size, ...), where ... are the image dimensions.\n",
    "    : return: A tensor of size (Batch Size, Flattened Image Size).\n",
    "    \"\"\"\n",
    "    # TODO: Implement Function\n",
    "    return tf.contrib.layers.flatten(\n",
    "        x_tensor,\n",
    "        outputs_collections=None,\n",
    "        scope=None\n",
    "    )\n",
    "\n",
    "\n",
    "\"\"\"\n",
    "DON'T MODIFY ANYTHING IN THIS CELL THAT IS BELOW THIS LINE\n",
    "\"\"\"\n",
    "tests.test_flatten(flatten)"
   ]
  },
  {
   "cell_type": "markdown",
   "metadata": {},
   "source": [
    "### Fully-Connected Layer\n",
    "Implement the `fully_conn` function to apply a fully connected layer to `x_tensor` with the shape (*Batch Size*, *num_outputs*). Shortcut option: you can use classes from the [TensorFlow Layers](https://www.tensorflow.org/api_docs/python/tf/layers) or [TensorFlow Layers (contrib)](https://www.tensorflow.org/api_guides/python/contrib.layers) packages for this layer. For more of a challenge, only use other TensorFlow packages."
   ]
  },
  {
   "cell_type": "code",
   "execution_count": 212,
   "metadata": {
    "collapsed": false
   },
   "outputs": [
    {
     "name": "stdout",
     "output_type": "stream",
     "text": [
      "Tests Passed\n"
     ]
    }
   ],
   "source": [
    "def fully_conn(x_tensor, num_outputs):\n",
    "    \"\"\"\n",
    "    Apply a fully connected layer to x_tensor using weight and bias\n",
    "    : x_tensor: A 2-D tensor where the first dimension is batch size.\n",
    "    : num_outputs: The number of output that the new tensor should be.\n",
    "    : return: A 2-D tensor where the second dimension is num_outputs.\n",
    "    \"\"\"\n",
    "    # TODO: Implement Function\n",
    "    \n",
    "    return tf.contrib.layers.fully_connected(\n",
    "        x_tensor,\n",
    "        num_outputs\n",
    "    )\n",
    "\n",
    "\n",
    "\"\"\"\n",
    "DON'T MODIFY ANYTHING IN THIS CELL THAT IS BELOW THIS LINE\n",
    "\"\"\"\n",
    "tests.test_fully_conn(fully_conn)"
   ]
  },
  {
   "cell_type": "markdown",
   "metadata": {},
   "source": [
    "### Output Layer\n",
    "Implement the `output` function to apply a fully connected layer to `x_tensor` with the shape (*Batch Size*, *num_outputs*). Shortcut option: you can use classes from the [TensorFlow Layers](https://www.tensorflow.org/api_docs/python/tf/layers) or [TensorFlow Layers (contrib)](https://www.tensorflow.org/api_guides/python/contrib.layers) packages for this layer. For more of a challenge, only use other TensorFlow packages.\n",
    "\n",
    "**Note:** Activation, softmax, or cross entropy should **not** be applied to this."
   ]
  },
  {
   "cell_type": "code",
   "execution_count": 213,
   "metadata": {
    "collapsed": false
   },
   "outputs": [
    {
     "name": "stdout",
     "output_type": "stream",
     "text": [
      "Tests Passed\n"
     ]
    }
   ],
   "source": [
    "def output(x_tensor, num_outputs):\n",
    "    \"\"\"\n",
    "    Apply a output layer to x_tensor using weight and bias\n",
    "    : x_tensor: A 2-D tensor where the first dimension is batch size.\n",
    "    : num_outputs: The number of output that the new tensor should be.\n",
    "    : return: A 2-D tensor where the second dimension is num_outputs.\n",
    "    \"\"\"\n",
    "    # TODO: Implement Function\n",
    "    weight = tf.Variable(tf.truncated_normal([num_outputs, num_outputs], mean = 0.0, stddev = 0.1))\n",
    "    bias = tf.Variable(tf.zeros([num_outputs]))\n",
    "    \n",
    "    fc = fully_conn(x_tensor, num_outputs)\n",
    "    out = tf.add(tf.matmul(fc, weight), bias)\n",
    "    \n",
    "    return out\n",
    "\n",
    "\n",
    "\"\"\"\n",
    "DON'T MODIFY ANYTHING IN THIS CELL THAT IS BELOW THIS LINE\n",
    "\"\"\"\n",
    "tests.test_output(output)"
   ]
  },
  {
   "cell_type": "markdown",
   "metadata": {},
   "source": [
    "### Create Convolutional Model\n",
    "Implement the function `conv_net` to create a convolutional neural network model. The function takes in a batch of images, `x`, and outputs logits.  Use the layers you created above to create this model:\n",
    "\n",
    "* Apply 1, 2, or 3 Convolution and Max Pool layers\n",
    "* Apply a Flatten Layer\n",
    "* Apply 1, 2, or 3 Fully Connected Layers\n",
    "* Apply an Output Layer\n",
    "* Return the output\n",
    "* Apply [TensorFlow's Dropout](https://www.tensorflow.org/api_docs/python/tf/nn/dropout) to one or more layers in the model using `keep_prob`. "
   ]
  },
  {
   "cell_type": "code",
   "execution_count": 214,
   "metadata": {
    "collapsed": false
   },
   "outputs": [
    {
     "name": "stdout",
     "output_type": "stream",
     "text": [
      "Neural Network Built!\n"
     ]
    }
   ],
   "source": [
    "def conv_net(x, keep_prob):\n",
    "    \"\"\"\n",
    "    Create a convolutional neural network model\n",
    "    : x: Placeholder tensor that holds image data.\n",
    "    : keep_prob: Placeholder tensor that hold dropout keep probability.\n",
    "    : return: Tensor that represents logits\n",
    "    \"\"\"\n",
    "    # TODO: Apply 1, 2, or 3 Convolution and Max Pool layers\n",
    "    #    Play around with different number of outputs, kernel size and stride\n",
    "    # Function Definition from Above:\n",
    "    #    conv2d_maxpool(x_tensor, conv_num_outputs, conv_ksize, conv_strides, pool_ksize, pool_strides)\n",
    "    conv_num_outputs = 16\n",
    "    conv_ksize = (5, 5)\n",
    "    conv_strides = (1, 1)\n",
    "    pool_ksize = (3, 3)\n",
    "    pool_strides = (2, 2)\n",
    "    \n",
    "    conv1 = conv2d_maxpool(x, conv_num_outputs, conv_ksize, conv_strides, pool_ksize, pool_strides)\n",
    "    conv2 = conv2d_maxpool(conv1, conv_num_outputs*2, conv_ksize, conv_strides, pool_ksize, pool_strides)\n",
    "   \n",
    "    # TODO: Apply a Flatten Layer\n",
    "    # Function Definition from Above:\n",
    "    #   flatten(x_tensor)\n",
    "    conv2 = flatten(conv2)\n",
    "    \n",
    "    conv2 = tf.nn.dropout(conv2, keep_prob)\n",
    "\n",
    "    # TODO: Apply 1, 2, or 3 Fully Connected Layers\n",
    "    #    Play around with different number of outputs\n",
    "    # Function Definition from Above:\n",
    "    #   fully_conn(x_tensor, num_outputs)\n",
    "    num_outputs = 512\n",
    "    \n",
    "    fc1 = fully_conn(conv2, num_outputs)\n",
    "    num_outputs = 256\n",
    "    fc2 = fully_conn(fc1, num_outputs)\n",
    "    \n",
    "    #fc1 = tf.nn.dropout(fc1, keep_prob)\n",
    "    \n",
    "    # TODO: Apply an Output Layer\n",
    "    #    Set this to the number of classes\n",
    "    # Function Definition from Above:\n",
    "    #   output(x_tensor, num_outputs)\n",
    "    out = output(fc2, 10)\n",
    "    \n",
    "    \n",
    "    # TODO: return output\n",
    "    return out\n",
    "\n",
    "\n",
    "\"\"\"\n",
    "DON'T MODIFY ANYTHING IN THIS CELL THAT IS BELOW THIS LINE\n",
    "\"\"\"\n",
    "\n",
    "##############################\n",
    "## Build the Neural Network ##\n",
    "##############################\n",
    "\n",
    "# Remove previous weights, bias, inputs, etc..\n",
    "tf.reset_default_graph()\n",
    "\n",
    "# Inputs\n",
    "x = neural_net_image_input((32, 32, 3))\n",
    "y = neural_net_label_input(10)\n",
    "keep_prob = neural_net_keep_prob_input()\n",
    "\n",
    "# Model\n",
    "logits = conv_net(x, keep_prob)\n",
    "\n",
    "# Name logits Tensor, so that is can be loaded from disk after training\n",
    "logits = tf.identity(logits, name='logits')\n",
    "\n",
    "# Loss and Optimizer\n",
    "cost = tf.reduce_mean(tf.nn.softmax_cross_entropy_with_logits(logits=logits, labels=y))\n",
    "optimizer = tf.train.AdamOptimizer().minimize(cost)\n",
    "\n",
    "# Accuracy\n",
    "correct_pred = tf.equal(tf.argmax(logits, 1), tf.argmax(y, 1))\n",
    "accuracy = tf.reduce_mean(tf.cast(correct_pred, tf.float32), name='accuracy')\n",
    "\n",
    "tests.test_conv_net(conv_net)"
   ]
  },
  {
   "cell_type": "markdown",
   "metadata": {},
   "source": [
    "## Train the Neural Network\n",
    "### Single Optimization\n",
    "Implement the function `train_neural_network` to do a single optimization.  The optimization should use `optimizer` to optimize in `session` with a `feed_dict` of the following:\n",
    "* `x` for image input\n",
    "* `y` for labels\n",
    "* `keep_prob` for keep probability for dropout\n",
    "\n",
    "This function will be called for each batch, so `tf.global_variables_initializer()` has already been called.\n",
    "\n",
    "Note: Nothing needs to be returned. This function is only optimizing the neural network."
   ]
  },
  {
   "cell_type": "code",
   "execution_count": 215,
   "metadata": {
    "collapsed": false
   },
   "outputs": [
    {
     "name": "stdout",
     "output_type": "stream",
     "text": [
      "Tests Passed\n"
     ]
    }
   ],
   "source": [
    "def train_neural_network(session, optimizer, keep_probability, feature_batch, label_batch):\n",
    "    \"\"\"\n",
    "    Optimize the session on a batch of images and labels\n",
    "    : session: Current TensorFlow session\n",
    "    : optimizer: TensorFlow optimizer function\n",
    "    : keep_probability: keep probability\n",
    "    : feature_batch: Batch of Numpy image data\n",
    "    : label_batch: Batch of Numpy label data\n",
    "    \"\"\"\n",
    "    # TODO: Implement Function\n",
    "    session.run(optimizer, feed_dict={\n",
    "            x: feature_batch,\n",
    "            y: label_batch,\n",
    "            keep_prob: keep_probability\n",
    "        })\n",
    "\n",
    "\n",
    "\"\"\"\n",
    "DON'T MODIFY ANYTHING IN THIS CELL THAT IS BELOW THIS LINE\n",
    "\"\"\"\n",
    "tests.test_train_nn(train_neural_network)"
   ]
  },
  {
   "cell_type": "markdown",
   "metadata": {},
   "source": [
    "### Show Stats\n",
    "Implement the function `print_stats` to print loss and validation accuracy.  Use the global variables `valid_features` and `valid_labels` to calculate validation accuracy.  Use a keep probability of `1.0` to calculate the loss and validation accuracy."
   ]
  },
  {
   "cell_type": "code",
   "execution_count": 216,
   "metadata": {
    "collapsed": false
   },
   "outputs": [],
   "source": [
    "def print_stats(session, feature_batch, label_batch, cost, accuracy):\n",
    "    \"\"\"\n",
    "    Print information about loss and validation accuracy\n",
    "    : session: Current TensorFlow session\n",
    "    : feature_batch: Batch of Numpy image data\n",
    "    : label_batch: Batch of Numpy label data\n",
    "    : cost: TensorFlow cost function\n",
    "    : accuracy: TensorFlow accuracy function\n",
    "    \"\"\"\n",
    "    # TODO: Implement Function\n",
    "    \n",
    "    loss = session.run(cost, feed_dict={\n",
    "        x: feature_batch,\n",
    "        y: label_batch,\n",
    "        keep_prob: 1.0\n",
    "    })\n",
    "        \n",
    "    valid_acc = session.run(accuracy, feed_dict={\n",
    "        x: valid_features,\n",
    "        y: valid_labels,\n",
    "        keep_prob: 1.0\n",
    "    })\n",
    "    \n",
    "    print('Loss: {:>10.4f} Validation Accuracy: {:.6f}'.format(\n",
    "        loss,\n",
    "        valid_acc\n",
    "    ))\n",
    "    \n",
    "    pass"
   ]
  },
  {
   "cell_type": "markdown",
   "metadata": {},
   "source": [
    "### Hyperparameters\n",
    "Tune the following parameters:\n",
    "* Set `epochs` to the number of iterations until the network stops learning or start overfitting\n",
    "* Set `batch_size` to the highest number that your machine has memory for.  Most people set them to common sizes of memory:\n",
    " * 64\n",
    " * 128\n",
    " * 256\n",
    " * ...\n",
    "* Set `keep_probability` to the probability of keeping a node using dropout"
   ]
  },
  {
   "cell_type": "code",
   "execution_count": 217,
   "metadata": {
    "collapsed": true
   },
   "outputs": [],
   "source": [
    "# TODO: Tune Parameters\n",
    "epochs = 30\n",
    "batch_size = 256\n",
    "keep_probability = 0.6"
   ]
  },
  {
   "cell_type": "markdown",
   "metadata": {},
   "source": [
    "### Train on a Single CIFAR-10 Batch\n",
    "Instead of training the neural network on all the CIFAR-10 batches of data, let's use a single batch. This should save time while you iterate on the model to get a better accuracy.  Once the final validation accuracy is 50% or greater, run the model on all the data in the next section."
   ]
  },
  {
   "cell_type": "code",
   "execution_count": 218,
   "metadata": {
    "collapsed": false
   },
   "outputs": [
    {
     "name": "stdout",
     "output_type": "stream",
     "text": [
      "Checking the Training on a Single Batch...\n",
      "Epoch  1, CIFAR-10 Batch 1:  Loss:     2.1806 Validation Accuracy: 0.209600\n",
      "Epoch  2, CIFAR-10 Batch 1:  Loss:     2.0264 Validation Accuracy: 0.305600\n",
      "Epoch  3, CIFAR-10 Batch 1:  Loss:     1.9127 Validation Accuracy: 0.324200\n",
      "Epoch  4, CIFAR-10 Batch 1:  Loss:     1.7199 Validation Accuracy: 0.351600\n",
      "Epoch  5, CIFAR-10 Batch 1:  Loss:     1.5774 Validation Accuracy: 0.406600\n",
      "Epoch  6, CIFAR-10 Batch 1:  Loss:     1.3783 Validation Accuracy: 0.440200\n",
      "Epoch  7, CIFAR-10 Batch 1:  Loss:     1.2180 Validation Accuracy: 0.460000\n",
      "Epoch  8, CIFAR-10 Batch 1:  Loss:     1.0797 Validation Accuracy: 0.454400\n",
      "Epoch  9, CIFAR-10 Batch 1:  Loss:     1.0179 Validation Accuracy: 0.468800\n",
      "Epoch 10, CIFAR-10 Batch 1:  Loss:     0.9366 Validation Accuracy: 0.488800\n",
      "Epoch 11, CIFAR-10 Batch 1:  Loss:     0.8463 Validation Accuracy: 0.503600\n",
      "Epoch 12, CIFAR-10 Batch 1:  Loss:     0.8263 Validation Accuracy: 0.494600\n",
      "Epoch 13, CIFAR-10 Batch 1:  Loss:     0.7137 Validation Accuracy: 0.531600\n",
      "Epoch 14, CIFAR-10 Batch 1:  Loss:     0.6560 Validation Accuracy: 0.535000\n",
      "Epoch 15, CIFAR-10 Batch 1:  Loss:     0.6075 Validation Accuracy: 0.540000\n",
      "Epoch 16, CIFAR-10 Batch 1:  Loss:     0.5764 Validation Accuracy: 0.539600\n",
      "Epoch 17, CIFAR-10 Batch 1:  Loss:     0.5192 Validation Accuracy: 0.529000\n",
      "Epoch 18, CIFAR-10 Batch 1:  Loss:     0.4709 Validation Accuracy: 0.550000\n",
      "Epoch 19, CIFAR-10 Batch 1:  Loss:     0.4514 Validation Accuracy: 0.540200\n",
      "Epoch 20, CIFAR-10 Batch 1:  Loss:     0.4207 Validation Accuracy: 0.558000\n",
      "Epoch 21, CIFAR-10 Batch 1:  Loss:     0.3980 Validation Accuracy: 0.532800\n",
      "Epoch 22, CIFAR-10 Batch 1:  Loss:     0.3658 Validation Accuracy: 0.540000\n",
      "Epoch 23, CIFAR-10 Batch 1:  Loss:     0.3701 Validation Accuracy: 0.535000\n",
      "Epoch 24, CIFAR-10 Batch 1:  Loss:     0.3202 Validation Accuracy: 0.550400\n",
      "Epoch 25, CIFAR-10 Batch 1:  Loss:     0.3041 Validation Accuracy: 0.532000\n",
      "Epoch 26, CIFAR-10 Batch 1:  Loss:     0.2496 Validation Accuracy: 0.556000\n",
      "Epoch 27, CIFAR-10 Batch 1:  Loss:     0.2306 Validation Accuracy: 0.571000\n",
      "Epoch 28, CIFAR-10 Batch 1:  Loss:     0.2668 Validation Accuracy: 0.557400\n",
      "Epoch 29, CIFAR-10 Batch 1:  Loss:     0.2921 Validation Accuracy: 0.528400\n",
      "Epoch 30, CIFAR-10 Batch 1:  Loss:     0.2374 Validation Accuracy: 0.539200\n"
     ]
    }
   ],
   "source": [
    "\"\"\"\n",
    "DON'T MODIFY ANYTHING IN THIS CELL\n",
    "\"\"\"\n",
    "print('Checking the Training on a Single Batch...')\n",
    "with tf.Session() as sess:\n",
    "    # Initializing the variables\n",
    "    sess.run(tf.global_variables_initializer())\n",
    "    \n",
    "    # Training cycle\n",
    "    for epoch in range(epochs):\n",
    "        batch_i = 1\n",
    "        for batch_features, batch_labels in helper.load_preprocess_training_batch(batch_i, batch_size):\n",
    "            train_neural_network(sess, optimizer, keep_probability, batch_features, batch_labels)\n",
    "        print('Epoch {:>2}, CIFAR-10 Batch {}:  '.format(epoch + 1, batch_i), end='')\n",
    "        print_stats(sess, batch_features, batch_labels, cost, accuracy)"
   ]
  },
  {
   "cell_type": "markdown",
   "metadata": {},
   "source": [
    "### Fully Train the Model\n",
    "Now that you got a good accuracy with a single CIFAR-10 batch, try it with all five batches."
   ]
  },
  {
   "cell_type": "code",
   "execution_count": 219,
   "metadata": {
    "collapsed": false
   },
   "outputs": [
    {
     "name": "stdout",
     "output_type": "stream",
     "text": [
      "Training...\n",
      "Epoch  1, CIFAR-10 Batch 1:  Loss:     2.2881 Validation Accuracy: 0.094400\n",
      "Epoch  1, CIFAR-10 Batch 2:  Loss:     2.1293 Validation Accuracy: 0.190600\n",
      "Epoch  1, CIFAR-10 Batch 3:  Loss:     2.0550 Validation Accuracy: 0.219600\n",
      "Epoch  1, CIFAR-10 Batch 4:  Loss:     1.8084 Validation Accuracy: 0.243600\n",
      "Epoch  1, CIFAR-10 Batch 5:  Loss:     1.8498 Validation Accuracy: 0.268000\n",
      "Epoch  2, CIFAR-10 Batch 1:  Loss:     1.9386 Validation Accuracy: 0.306200\n",
      "Epoch  2, CIFAR-10 Batch 2:  Loss:     1.8896 Validation Accuracy: 0.311200\n",
      "Epoch  2, CIFAR-10 Batch 3:  Loss:     1.6609 Validation Accuracy: 0.323400\n",
      "Epoch  2, CIFAR-10 Batch 4:  Loss:     1.5961 Validation Accuracy: 0.312800\n",
      "Epoch  2, CIFAR-10 Batch 5:  Loss:     1.6159 Validation Accuracy: 0.352600\n",
      "Epoch  3, CIFAR-10 Batch 1:  Loss:     1.5627 Validation Accuracy: 0.380200\n",
      "Epoch  3, CIFAR-10 Batch 2:  Loss:     1.5741 Validation Accuracy: 0.403800\n",
      "Epoch  3, CIFAR-10 Batch 3:  Loss:     1.5016 Validation Accuracy: 0.377400\n",
      "Epoch  3, CIFAR-10 Batch 4:  Loss:     1.4366 Validation Accuracy: 0.399000\n",
      "Epoch  3, CIFAR-10 Batch 5:  Loss:     1.3856 Validation Accuracy: 0.417600\n",
      "Epoch  4, CIFAR-10 Batch 1:  Loss:     1.3727 Validation Accuracy: 0.437400\n",
      "Epoch  4, CIFAR-10 Batch 2:  Loss:     1.3406 Validation Accuracy: 0.453400\n",
      "Epoch  4, CIFAR-10 Batch 3:  Loss:     1.2734 Validation Accuracy: 0.454400\n",
      "Epoch  4, CIFAR-10 Batch 4:  Loss:     1.2884 Validation Accuracy: 0.477200\n",
      "Epoch  4, CIFAR-10 Batch 5:  Loss:     1.1727 Validation Accuracy: 0.477200\n",
      "Epoch  5, CIFAR-10 Batch 1:  Loss:     1.1922 Validation Accuracy: 0.481200\n",
      "Epoch  5, CIFAR-10 Batch 2:  Loss:     1.2268 Validation Accuracy: 0.500000\n",
      "Epoch  5, CIFAR-10 Batch 3:  Loss:     1.1033 Validation Accuracy: 0.504600\n",
      "Epoch  5, CIFAR-10 Batch 4:  Loss:     1.2160 Validation Accuracy: 0.510600\n",
      "Epoch  5, CIFAR-10 Batch 5:  Loss:     1.0838 Validation Accuracy: 0.487400\n",
      "Epoch  6, CIFAR-10 Batch 1:  Loss:     1.0723 Validation Accuracy: 0.528200\n",
      "Epoch  6, CIFAR-10 Batch 2:  Loss:     1.0879 Validation Accuracy: 0.528800\n",
      "Epoch  6, CIFAR-10 Batch 3:  Loss:     0.9903 Validation Accuracy: 0.539400\n",
      "Epoch  6, CIFAR-10 Batch 4:  Loss:     1.1366 Validation Accuracy: 0.537800\n",
      "Epoch  6, CIFAR-10 Batch 5:  Loss:     0.9519 Validation Accuracy: 0.520800\n",
      "Epoch  7, CIFAR-10 Batch 1:  Loss:     0.9226 Validation Accuracy: 0.554400\n",
      "Epoch  7, CIFAR-10 Batch 2:  Loss:     0.9356 Validation Accuracy: 0.554000\n",
      "Epoch  7, CIFAR-10 Batch 3:  Loss:     0.8879 Validation Accuracy: 0.555800\n",
      "Epoch  7, CIFAR-10 Batch 4:  Loss:     1.0085 Validation Accuracy: 0.580800\n",
      "Epoch  7, CIFAR-10 Batch 5:  Loss:     0.8164 Validation Accuracy: 0.585800\n",
      "Epoch  8, CIFAR-10 Batch 1:  Loss:     0.7880 Validation Accuracy: 0.594800\n",
      "Epoch  8, CIFAR-10 Batch 2:  Loss:     0.8125 Validation Accuracy: 0.593000\n",
      "Epoch  8, CIFAR-10 Batch 3:  Loss:     0.7138 Validation Accuracy: 0.608600\n",
      "Epoch  8, CIFAR-10 Batch 4:  Loss:     0.7699 Validation Accuracy: 0.605400\n",
      "Epoch  8, CIFAR-10 Batch 5:  Loss:     0.7182 Validation Accuracy: 0.611800\n",
      "Epoch  9, CIFAR-10 Batch 1:  Loss:     0.6284 Validation Accuracy: 0.619200\n",
      "Epoch  9, CIFAR-10 Batch 2:  Loss:     0.6985 Validation Accuracy: 0.621000\n",
      "Epoch  9, CIFAR-10 Batch 3:  Loss:     0.5556 Validation Accuracy: 0.616200\n",
      "Epoch  9, CIFAR-10 Batch 4:  Loss:     0.6161 Validation Accuracy: 0.626400\n",
      "Epoch  9, CIFAR-10 Batch 5:  Loss:     0.6008 Validation Accuracy: 0.640400\n",
      "Epoch 10, CIFAR-10 Batch 1:  Loss:     0.5780 Validation Accuracy: 0.632800\n",
      "Epoch 10, CIFAR-10 Batch 2:  Loss:     0.5795 Validation Accuracy: 0.631600\n",
      "Epoch 10, CIFAR-10 Batch 3:  Loss:     0.4501 Validation Accuracy: 0.627800\n",
      "Epoch 10, CIFAR-10 Batch 4:  Loss:     0.5225 Validation Accuracy: 0.629200\n",
      "Epoch 10, CIFAR-10 Batch 5:  Loss:     0.5614 Validation Accuracy: 0.646200\n",
      "Epoch 11, CIFAR-10 Batch 1:  Loss:     0.4819 Validation Accuracy: 0.644800\n",
      "Epoch 11, CIFAR-10 Batch 2:  Loss:     0.5327 Validation Accuracy: 0.643000\n",
      "Epoch 11, CIFAR-10 Batch 3:  Loss:     0.3379 Validation Accuracy: 0.643400\n",
      "Epoch 11, CIFAR-10 Batch 4:  Loss:     0.4151 Validation Accuracy: 0.654000\n",
      "Epoch 11, CIFAR-10 Batch 5:  Loss:     0.4856 Validation Accuracy: 0.657200\n",
      "Epoch 12, CIFAR-10 Batch 1:  Loss:     0.4346 Validation Accuracy: 0.656200\n",
      "Epoch 12, CIFAR-10 Batch 2:  Loss:     0.4549 Validation Accuracy: 0.626800\n",
      "Epoch 12, CIFAR-10 Batch 3:  Loss:     0.3153 Validation Accuracy: 0.651600\n",
      "Epoch 12, CIFAR-10 Batch 4:  Loss:     0.3918 Validation Accuracy: 0.641800\n",
      "Epoch 12, CIFAR-10 Batch 5:  Loss:     0.4006 Validation Accuracy: 0.664200\n",
      "Epoch 13, CIFAR-10 Batch 1:  Loss:     0.4091 Validation Accuracy: 0.663400\n",
      "Epoch 13, CIFAR-10 Batch 2:  Loss:     0.4130 Validation Accuracy: 0.658200\n",
      "Epoch 13, CIFAR-10 Batch 3:  Loss:     0.2828 Validation Accuracy: 0.659600\n",
      "Epoch 13, CIFAR-10 Batch 4:  Loss:     0.3320 Validation Accuracy: 0.659600\n",
      "Epoch 13, CIFAR-10 Batch 5:  Loss:     0.3897 Validation Accuracy: 0.655600\n",
      "Epoch 14, CIFAR-10 Batch 1:  Loss:     0.3450 Validation Accuracy: 0.675200\n",
      "Epoch 14, CIFAR-10 Batch 2:  Loss:     0.3501 Validation Accuracy: 0.660200\n",
      "Epoch 14, CIFAR-10 Batch 3:  Loss:     0.2466 Validation Accuracy: 0.670200\n",
      "Epoch 14, CIFAR-10 Batch 4:  Loss:     0.2530 Validation Accuracy: 0.656400\n",
      "Epoch 14, CIFAR-10 Batch 5:  Loss:     0.3127 Validation Accuracy: 0.675400\n",
      "Epoch 15, CIFAR-10 Batch 1:  Loss:     0.3058 Validation Accuracy: 0.675200\n",
      "Epoch 15, CIFAR-10 Batch 2:  Loss:     0.2985 Validation Accuracy: 0.655800\n",
      "Epoch 15, CIFAR-10 Batch 3:  Loss:     0.2089 Validation Accuracy: 0.664400\n",
      "Epoch 15, CIFAR-10 Batch 4:  Loss:     0.2358 Validation Accuracy: 0.671000\n",
      "Epoch 15, CIFAR-10 Batch 5:  Loss:     0.2583 Validation Accuracy: 0.678600\n",
      "Epoch 16, CIFAR-10 Batch 1:  Loss:     0.3014 Validation Accuracy: 0.669800\n",
      "Epoch 16, CIFAR-10 Batch 2:  Loss:     0.2724 Validation Accuracy: 0.659200\n",
      "Epoch 16, CIFAR-10 Batch 3:  Loss:     0.1923 Validation Accuracy: 0.671400\n",
      "Epoch 16, CIFAR-10 Batch 4:  Loss:     0.2157 Validation Accuracy: 0.665600\n",
      "Epoch 16, CIFAR-10 Batch 5:  Loss:     0.2087 Validation Accuracy: 0.687400\n",
      "Epoch 17, CIFAR-10 Batch 1:  Loss:     0.2562 Validation Accuracy: 0.674000\n",
      "Epoch 17, CIFAR-10 Batch 2:  Loss:     0.2338 Validation Accuracy: 0.668800\n",
      "Epoch 17, CIFAR-10 Batch 3:  Loss:     0.1919 Validation Accuracy: 0.684400\n",
      "Epoch 17, CIFAR-10 Batch 4:  Loss:     0.1966 Validation Accuracy: 0.664400\n",
      "Epoch 17, CIFAR-10 Batch 5:  Loss:     0.2105 Validation Accuracy: 0.669400\n",
      "Epoch 18, CIFAR-10 Batch 1:  Loss:     0.2406 Validation Accuracy: 0.672800\n",
      "Epoch 18, CIFAR-10 Batch 2:  Loss:     0.2561 Validation Accuracy: 0.673800\n",
      "Epoch 18, CIFAR-10 Batch 3:  Loss:     0.1880 Validation Accuracy: 0.674000\n",
      "Epoch 18, CIFAR-10 Batch 4:  Loss:     0.1829 Validation Accuracy: 0.684200\n",
      "Epoch 18, CIFAR-10 Batch 5:  Loss:     0.2162 Validation Accuracy: 0.671600\n",
      "Epoch 19, CIFAR-10 Batch 1:  Loss:     0.1924 Validation Accuracy: 0.681000\n",
      "Epoch 19, CIFAR-10 Batch 2:  Loss:     0.2325 Validation Accuracy: 0.674000\n",
      "Epoch 19, CIFAR-10 Batch 3:  Loss:     0.1840 Validation Accuracy: 0.668600\n",
      "Epoch 19, CIFAR-10 Batch 4:  Loss:     0.1696 Validation Accuracy: 0.689400\n",
      "Epoch 19, CIFAR-10 Batch 5:  Loss:     0.1893 Validation Accuracy: 0.661200\n",
      "Epoch 20, CIFAR-10 Batch 1:  Loss:     0.1543 Validation Accuracy: 0.677400\n",
      "Epoch 20, CIFAR-10 Batch 2:  Loss:     0.2142 Validation Accuracy: 0.671800\n",
      "Epoch 20, CIFAR-10 Batch 3:  Loss:     0.1698 Validation Accuracy: 0.676800\n",
      "Epoch 20, CIFAR-10 Batch 4:  Loss:     0.1738 Validation Accuracy: 0.668600\n",
      "Epoch 20, CIFAR-10 Batch 5:  Loss:     0.1414 Validation Accuracy: 0.677200\n",
      "Epoch 21, CIFAR-10 Batch 1:  Loss:     0.1231 Validation Accuracy: 0.676200\n",
      "Epoch 21, CIFAR-10 Batch 2:  Loss:     0.2004 Validation Accuracy: 0.680000\n",
      "Epoch 21, CIFAR-10 Batch 3:  Loss:     0.1422 Validation Accuracy: 0.689000\n",
      "Epoch 21, CIFAR-10 Batch 4:  Loss:     0.1418 Validation Accuracy: 0.677400\n",
      "Epoch 21, CIFAR-10 Batch 5:  Loss:     0.1426 Validation Accuracy: 0.684600\n",
      "Epoch 22, CIFAR-10 Batch 1:  Loss:     0.1319 Validation Accuracy: 0.677800\n",
      "Epoch 22, CIFAR-10 Batch 2:  Loss:     0.1959 Validation Accuracy: 0.677400\n",
      "Epoch 22, CIFAR-10 Batch 3:  Loss:     0.1392 Validation Accuracy: 0.666600\n",
      "Epoch 22, CIFAR-10 Batch 4:  Loss:     0.1401 Validation Accuracy: 0.671400\n",
      "Epoch 22, CIFAR-10 Batch 5:  Loss:     0.1113 Validation Accuracy: 0.694800\n",
      "Epoch 23, CIFAR-10 Batch 1:  Loss:     0.1245 Validation Accuracy: 0.697800\n",
      "Epoch 23, CIFAR-10 Batch 2:  Loss:     0.1939 Validation Accuracy: 0.669000\n",
      "Epoch 23, CIFAR-10 Batch 3:  Loss:     0.1605 Validation Accuracy: 0.653800\n",
      "Epoch 23, CIFAR-10 Batch 4:  Loss:     0.1582 Validation Accuracy: 0.654200\n",
      "Epoch 23, CIFAR-10 Batch 5:  Loss:     0.0983 Validation Accuracy: 0.690800\n",
      "Epoch 24, CIFAR-10 Batch 1:  Loss:     0.1361 Validation Accuracy: 0.685800\n",
      "Epoch 24, CIFAR-10 Batch 2:  Loss:     0.1989 Validation Accuracy: 0.690600\n",
      "Epoch 24, CIFAR-10 Batch 3:  Loss:     0.1509 Validation Accuracy: 0.664600\n",
      "Epoch 24, CIFAR-10 Batch 4:  Loss:     0.1509 Validation Accuracy: 0.670400\n",
      "Epoch 24, CIFAR-10 Batch 5:  Loss:     0.1089 Validation Accuracy: 0.683800\n",
      "Epoch 25, CIFAR-10 Batch 1:  Loss:     0.1154 Validation Accuracy: 0.697800\n",
      "Epoch 25, CIFAR-10 Batch 2:  Loss:     0.1822 Validation Accuracy: 0.680400\n",
      "Epoch 25, CIFAR-10 Batch 3:  Loss:     0.1303 Validation Accuracy: 0.666400\n",
      "Epoch 25, CIFAR-10 Batch 4:  Loss:     0.1609 Validation Accuracy: 0.670800\n",
      "Epoch 25, CIFAR-10 Batch 5:  Loss:     0.0790 Validation Accuracy: 0.681600\n",
      "Epoch 26, CIFAR-10 Batch 1:  Loss:     0.1189 Validation Accuracy: 0.698600\n",
      "Epoch 26, CIFAR-10 Batch 2:  Loss:     0.1835 Validation Accuracy: 0.662800\n",
      "Epoch 26, CIFAR-10 Batch 3:  Loss:     0.1302 Validation Accuracy: 0.675200\n",
      "Epoch 26, CIFAR-10 Batch 4:  Loss:     0.1379 Validation Accuracy: 0.672800\n",
      "Epoch 26, CIFAR-10 Batch 5:  Loss:     0.0853 Validation Accuracy: 0.681000\n",
      "Epoch 27, CIFAR-10 Batch 1:  Loss:     0.1031 Validation Accuracy: 0.697400\n",
      "Epoch 27, CIFAR-10 Batch 2:  Loss:     0.1466 Validation Accuracy: 0.676800\n",
      "Epoch 27, CIFAR-10 Batch 3:  Loss:     0.1175 Validation Accuracy: 0.680600\n",
      "Epoch 27, CIFAR-10 Batch 4:  Loss:     0.1042 Validation Accuracy: 0.670000\n",
      "Epoch 27, CIFAR-10 Batch 5:  Loss:     0.0612 Validation Accuracy: 0.693400\n",
      "Epoch 28, CIFAR-10 Batch 1:  Loss:     0.1024 Validation Accuracy: 0.694600\n",
      "Epoch 28, CIFAR-10 Batch 2:  Loss:     0.1601 Validation Accuracy: 0.685400\n",
      "Epoch 28, CIFAR-10 Batch 3:  Loss:     0.1273 Validation Accuracy: 0.672000\n",
      "Epoch 28, CIFAR-10 Batch 4:  Loss:     0.0968 Validation Accuracy: 0.669800\n",
      "Epoch 28, CIFAR-10 Batch 5:  Loss:     0.0523 Validation Accuracy: 0.690800\n",
      "Epoch 29, CIFAR-10 Batch 1:  Loss:     0.1100 Validation Accuracy: 0.703600\n",
      "Epoch 29, CIFAR-10 Batch 2:  Loss:     0.1686 Validation Accuracy: 0.695400\n",
      "Epoch 29, CIFAR-10 Batch 3:  Loss:     0.1136 Validation Accuracy: 0.678000\n",
      "Epoch 29, CIFAR-10 Batch 4:  Loss:     0.0831 Validation Accuracy: 0.671000\n",
      "Epoch 29, CIFAR-10 Batch 5:  Loss:     0.0550 Validation Accuracy: 0.700600\n",
      "Epoch 30, CIFAR-10 Batch 1:  Loss:     0.0971 Validation Accuracy: 0.695000\n",
      "Epoch 30, CIFAR-10 Batch 2:  Loss:     0.1513 Validation Accuracy: 0.699200\n",
      "Epoch 30, CIFAR-10 Batch 3:  Loss:     0.1155 Validation Accuracy: 0.686200\n",
      "Epoch 30, CIFAR-10 Batch 4:  Loss:     0.0757 Validation Accuracy: 0.679400\n",
      "Epoch 30, CIFAR-10 Batch 5:  Loss:     0.0535 Validation Accuracy: 0.688800\n"
     ]
    }
   ],
   "source": [
    "\"\"\"\n",
    "DON'T MODIFY ANYTHING IN THIS CELL\n",
    "\"\"\"\n",
    "save_model_path = './image_classification'\n",
    "\n",
    "print('Training...')\n",
    "with tf.Session() as sess:\n",
    "    # Initializing the variables\n",
    "    sess.run(tf.global_variables_initializer())\n",
    "    \n",
    "    # Training cycle\n",
    "    for epoch in range(epochs):\n",
    "        # Loop over all batches\n",
    "        n_batches = 5\n",
    "        for batch_i in range(1, n_batches + 1):\n",
    "            for batch_features, batch_labels in helper.load_preprocess_training_batch(batch_i, batch_size):\n",
    "                train_neural_network(sess, optimizer, keep_probability, batch_features, batch_labels)\n",
    "            print('Epoch {:>2}, CIFAR-10 Batch {}:  '.format(epoch + 1, batch_i), end='')\n",
    "            print_stats(sess, batch_features, batch_labels, cost, accuracy)\n",
    "            \n",
    "    # Save Model\n",
    "    saver = tf.train.Saver()\n",
    "    save_path = saver.save(sess, save_model_path)"
   ]
  },
  {
   "cell_type": "markdown",
   "metadata": {},
   "source": [
    "# Checkpoint\n",
    "The model has been saved to disk.\n",
    "## Test Model\n",
    "Test your model against the test dataset.  This will be your final accuracy. You should have an accuracy greater than 50%. If you don't, keep tweaking the model architecture and parameters."
   ]
  },
  {
   "cell_type": "code",
   "execution_count": 220,
   "metadata": {
    "collapsed": false
   },
   "outputs": [
    {
     "name": "stdout",
     "output_type": "stream",
     "text": [
      "INFO:tensorflow:Restoring parameters from ./image_classification\n",
      "Testing Accuracy: 0.67744140625\n",
      "\n"
     ]
    },
    {
     "data": {
      "image/png": "[encoded data removed]",
      "text/plain": [
       "<matplotlib.figure.Figure at 0x11d27e438>"
      ]
     },
     "metadata": {
      "image/png": {
       "height": 319,
       "width": 355
      }
     },
     "output_type": "display_data"
    }
   ],
   "source": [
    "\"\"\"\n",
    "DON'T MODIFY ANYTHING IN THIS CELL\n",
    "\"\"\"\n",
    "%matplotlib inline\n",
    "%config InlineBackend.figure_format = 'retina'\n",
    "\n",
    "import tensorflow as tf\n",
    "import pickle\n",
    "import helper\n",
    "import random\n",
    "\n",
    "# Set batch size if not already set\n",
    "try:\n",
    "    if batch_size:\n",
    "        pass\n",
    "except NameError:\n",
    "    batch_size = 64\n",
    "\n",
    "save_model_path = './image_classification'\n",
    "n_samples = 4\n",
    "top_n_predictions = 3\n",
    "\n",
    "def test_model():\n",
    "    \"\"\"\n",
    "    Test the saved model against the test dataset\n",
    "    \"\"\"\n",
    "\n",
    "    test_features, test_labels = pickle.load(open('preprocess_training.p', mode='rb'))\n",
    "    loaded_graph = tf.Graph()\n",
    "\n",
    "    with tf.Session(graph=loaded_graph) as sess:\n",
    "        # Load model\n",
    "        loader = tf.train.import_meta_graph(save_model_path + '.meta')\n",
    "        loader.restore(sess, save_model_path)\n",
    "\n",
    "        # Get Tensors from loaded model\n",
    "        loaded_x = loaded_graph.get_tensor_by_name('x:0')\n",
    "        loaded_y = loaded_graph.get_tensor_by_name('y:0')\n",
    "        loaded_keep_prob = loaded_graph.get_tensor_by_name('keep_prob:0')\n",
    "        loaded_logits = loaded_graph.get_tensor_by_name('logits:0')\n",
    "        loaded_acc = loaded_graph.get_tensor_by_name('accuracy:0')\n",
    "        \n",
    "        # Get accuracy in batches for memory limitations\n",
    "        test_batch_acc_total = 0\n",
    "        test_batch_count = 0\n",
    "        \n",
    "        for train_feature_batch, train_label_batch in helper.batch_features_labels(test_features, test_labels, batch_size):\n",
    "            test_batch_acc_total += sess.run(\n",
    "                loaded_acc,\n",
    "                feed_dict={loaded_x: train_feature_batch, loaded_y: train_label_batch, loaded_keep_prob: 1.0})\n",
    "            test_batch_count += 1\n",
    "\n",
    "        print('Testing Accuracy: {}\\n'.format(test_batch_acc_total/test_batch_count))\n",
    "\n",
    "        # Print Random Samples\n",
    "        random_test_features, random_test_labels = tuple(zip(*random.sample(list(zip(test_features, test_labels)), n_samples)))\n",
    "        random_test_predictions = sess.run(\n",
    "            tf.nn.top_k(tf.nn.softmax(loaded_logits), top_n_predictions),\n",
    "            feed_dict={loaded_x: random_test_features, loaded_y: random_test_labels, loaded_keep_prob: 1.0})\n",
    "        helper.display_image_predictions(random_test_features, random_test_labels, random_test_predictions)\n",
    "\n",
    "\n",
    "test_model()"
   ]
  },
  {
   "cell_type": "markdown",
   "metadata": {},
   "source": [
    "## Why 50-80% Accuracy?\n",
    "You might be wondering why you can't get an accuracy any higher. First things first, 50% isn't bad for a simple CNN.  Pure guessing would get you 10% accuracy. That's because there are many more techniques that can be applied to your model and we recemmond that once you are done with this project, you explore!\n",
    "\n",
    "## Submitting This Project\n",
    "When submitting this project, make sure to run all the cells before saving the notebook.  Save the notebook file as \"image_classification.ipynb\" and save it as a HTML file under \"File\" -> \"Download as\".  Include the \"helper.py\" and \"problem_unittests.py\" files in your submission."
   ]
  }
 ],
 "metadata": {
  "kernelspec": {
   "display_name": "Python 3",
   "language": "python",
   "name": "python3"
  },
  "language_info": {
   "codemirror_mode": {
    "name": "ipython",
    "version": 3
   },
   "file_extension": ".py",
   "mimetype": "text/x-python",
   "name": "python",
   "nbconvert_exporter": "python",
   "pygments_lexer": "ipython3",
   "version": "3.6.0"
  }
 },
 "nbformat": 4,
 "nbformat_minor": 0
}
